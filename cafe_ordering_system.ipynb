{
  "nbformat": 4,
  "nbformat_minor": 0,
  "metadata": {
    "colab": {
      "provenance": []
    },
    "kernelspec": {
      "name": "python3",
      "display_name": "Python 3"
    },
    "language_info": {
      "name": "python"
    }
  },
  "cells": [
    {
      "cell_type": "code",
      "execution_count": null,
      "metadata": {
        "colab": {
          "base_uri": "https://localhost:8080/"
        },
        "id": "-5P3hs4zGrTl",
        "outputId": "1d342ac9-6dcc-4bcd-a75a-05127d9c0427"
      },
      "outputs": [
        {
          "output_type": "stream",
          "name": "stdout",
          "text": [
            "🌟 Welcome to the Cafe! 🌟\n",
            "Here's our menu:\n",
            "Pizza: Rs40\n",
            "Pasta: Rs50\n",
            "Burger: Rs60\n",
            "Salad: Rs70\n",
            "Coffee: Rs80\n",
            "\n",
            "Enter the item you want to order: coffee\n",
            "How many Coffees would you like to order? 2\n",
            "✅ 2 Coffee(s) added to your order.\n",
            "Do you want to order something else? (Yes/No): yes\n",
            "\n",
            "Enter the item you want to order: pizza\n",
            "How many Pizzas would you like to order? 1\n",
            "✅ 1 Pizza(s) added to your order.\n",
            "Do you want to order something else? (Yes/No): no\n",
            "\n",
            "🧾 Your Order Summary:\n",
            "------------------------------\n",
            "Coffee x 2 = Rs160\n",
            "Pizza x 1 = Rs40\n",
            "------------------------------\n",
            "💰 Total Amount: Rs200\n",
            "🙏 Thank you for visiting!\n"
          ]
        }
      ],
      "source": [
        "menu = {\n",
        "    'Pizza': 40,\n",
        "    'Pasta': 50,\n",
        "    'Burger': 60,\n",
        "    'Salad': 70,\n",
        "    'Coffee': 80,\n",
        "}\n",
        "\n",
        "order_total = 0\n",
        "order_details = {}\n",
        "\n",
        "print(\"🌟 Welcome to the Cafe! 🌟\")\n",
        "print(\"Here's our menu:\")\n",
        "for item, price in menu.items():\n",
        "    print(f\"{item}: Rs{price}\")\n",
        "\n",
        "while True:\n",
        "    item = input(\"\\nEnter the item you want to order: \").strip().capitalize()\n",
        "\n",
        "    if item in menu:\n",
        "        quantity_input = input(f\"How many {item}s would you like to order? \").strip()\n",
        "\n",
        "        if quantity_input.isdigit():\n",
        "            quantity = int(quantity_input)\n",
        "\n",
        "            if quantity > 0:\n",
        "                item_cost = menu[item] * quantity\n",
        "                order_total += item_cost\n",
        "\n",
        "                if item in order_details:\n",
        "                    order_details[item]['quantity'] += quantity\n",
        "                    order_details[item]['cost'] += item_cost\n",
        "                else:\n",
        "                    order_details[item] = {'quantity': quantity, 'cost': item_cost}\n",
        "\n",
        "                print(f\"✅ {quantity} {item}(s) added to your order.\")\n",
        "            else:\n",
        "                print(\"❌ Quantity must be more than 0.\")\n",
        "        else:\n",
        "            print(\"❌ Please enter a valid numeric quantity.\")\n",
        "    else:\n",
        "        print(f\"❌ Sorry, we don't have {item} on the menu.\")\n",
        "\n",
        "    another_order = input(\"Do you want to order something else? (Yes/No): \").strip().lower()\n",
        "    if another_order != 'yes':\n",
        "        break\n",
        "\n",
        "# Final Bill\n",
        "print(\"\\n🧾 Your Order Summary:\")\n",
        "print(\"-\" * 30)\n",
        "for item, details in order_details.items():\n",
        "    print(f\"{item} x {details['quantity']} = Rs{details['cost']}\")\n",
        "print(\"-\" * 30)\n",
        "print(f\"💰 Total Amount: Rs{order_total}\")\n",
        "print(\"🙏 Thank you for visiting!\")"
      ]
    }
  ]
}